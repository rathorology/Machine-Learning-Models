{
 "cells": [
  {
   "cell_type": "code",
   "execution_count": 171,
   "metadata": {
    "collapsed": true
   },
   "outputs": [],
   "source": [
    "import numpy as np\n",
    "import pandas as pd\n",
    "from sklearn import svm\n",
    "from sklearn.metrics import accuracy_score\n",
    "from sklearn.naive_bayes import GaussianNB\n",
    "from sklearn.model_selection import train_test_split\n",
    "from sklearn.ensemble import RandomForestClassifier\n",
    "from sklearn.metrics import confusion_matrix"
   ]
  },
  {
   "cell_type": "code",
   "execution_count": 162,
   "metadata": {},
   "outputs": [
    {
     "data": {
      "text/plain": [
       "0.8231884057971014"
      ]
     },
     "execution_count": 162,
     "metadata": {},
     "output_type": "execute_result"
    }
   ],
   "source": [
    "#Support vector machine classifier\n",
    "df = pd.read_csv(\"C:\\Users\\DELL\\Downloads\\spambase\\spambase.data\")\n",
    "df_test = df.sample(frac=0.7)\n",
    "df_rest = df.loc[~df.index.isin(df_test.index)]\n",
    "y = df_test.iloc[:,57]\n",
    "x = df_test.drop(df_test.columns[[57]],axis=1)\n",
    "clf =svm.SVC()\n",
    "model=clf.fit(x,y)\n",
    "x_test = df_rest.drop(df_rest.columns[[57]],axis=1)\n",
    "predicted = clf.predict(x_test)\n",
    "y_true = df_rest.iloc[:,57]\n",
    "accuracy = accuracy_score(y_true,predicted)\n",
    "accuracy"
   ]
  },
  {
   "cell_type": "code",
   "execution_count": 167,
   "metadata": {},
   "outputs": [
    {
     "data": {
      "text/plain": [
       "0.81521739130434778"
      ]
     },
     "execution_count": 167,
     "metadata": {},
     "output_type": "execute_result"
    }
   ],
   "source": [
    "#Naive bayes classifier using Gaussian kernel\n",
    "model = GaussianNB()\n",
    "model.fit(x,y)\n",
    "outcome = model.predict(x_test)\n",
    "result = accuracy_score(y_true,outcome)\n",
    "result"
   ]
  },
  {
   "cell_type": "code",
   "execution_count": 175,
   "metadata": {},
   "outputs": [
    {
     "data": {
      "text/plain": [
       "0.93043478260869561"
      ]
     },
     "execution_count": 175,
     "metadata": {},
     "output_type": "execute_result"
    }
   ],
   "source": [
    "#RandomForestClassifier\n",
    "train_model = RandomForestClassifier()\n",
    "train_model.fit(x,y)\n",
    "predicted = train_model.predict(x_test)\n",
    "result = accuracy_score(y_true,predicted)\n",
    "result"
   ]
  },
  {
   "cell_type": "code",
   "execution_count": null,
   "metadata": {
    "collapsed": true
   },
   "outputs": [],
   "source": []
  }
 ],
 "metadata": {
  "kernelspec": {
   "display_name": "Python 3",
   "language": "python",
   "name": "python3"
  },
  "language_info": {
   "codemirror_mode": {
    "name": "ipython",
    "version": 3
   },
   "file_extension": ".py",
   "mimetype": "text/x-python",
   "name": "python",
   "nbconvert_exporter": "python",
   "pygments_lexer": "ipython3",
   "version": "3.6.3"
  }
 },
 "nbformat": 4,
 "nbformat_minor": 2
}

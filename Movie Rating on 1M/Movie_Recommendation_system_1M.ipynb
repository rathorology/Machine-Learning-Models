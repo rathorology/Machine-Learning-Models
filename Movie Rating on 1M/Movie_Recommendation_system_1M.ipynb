{
 "cells": [
  {
   "cell_type": "markdown",
   "metadata": {},
   "source": [
    "Libraries Used"
   ]
  },
  {
   "cell_type": "code",
   "execution_count": 44,
   "metadata": {
    "collapsed": true
   },
   "outputs": [],
   "source": [
    "import pandas as pd\n",
    "import numpy as np\n",
    "from sklearn.model_selection import train_test_split\n",
    "from sklearn.metrics.pairwise import pairwise_distances\n",
    "from sklearn.metrics import mean_squared_error"
   ]
  },
  {
   "cell_type": "code",
   "execution_count": 24,
   "metadata": {},
   "outputs": [
    {
     "data": {
      "text/html": [
       "<div>\n",
       "<style>\n",
       "    .dataframe thead tr:only-child th {\n",
       "        text-align: right;\n",
       "    }\n",
       "\n",
       "    .dataframe thead th {\n",
       "        text-align: left;\n",
       "    }\n",
       "\n",
       "    .dataframe tbody tr th {\n",
       "        vertical-align: top;\n",
       "    }\n",
       "</style>\n",
       "<table border=\"1\" class=\"dataframe\">\n",
       "  <thead>\n",
       "    <tr style=\"text-align: right;\">\n",
       "      <th></th>\n",
       "      <th>UserID</th>\n",
       "      <th>MovieID</th>\n",
       "      <th>Rating</th>\n",
       "      <th>Timestamp</th>\n",
       "    </tr>\n",
       "  </thead>\n",
       "  <tbody>\n",
       "    <tr>\n",
       "      <th>0</th>\n",
       "      <td>1</td>\n",
       "      <td>1193</td>\n",
       "      <td>5</td>\n",
       "      <td>978300760</td>\n",
       "    </tr>\n",
       "    <tr>\n",
       "      <th>1</th>\n",
       "      <td>1</td>\n",
       "      <td>661</td>\n",
       "      <td>3</td>\n",
       "      <td>978302109</td>\n",
       "    </tr>\n",
       "    <tr>\n",
       "      <th>2</th>\n",
       "      <td>1</td>\n",
       "      <td>914</td>\n",
       "      <td>3</td>\n",
       "      <td>978301968</td>\n",
       "    </tr>\n",
       "    <tr>\n",
       "      <th>3</th>\n",
       "      <td>1</td>\n",
       "      <td>3408</td>\n",
       "      <td>4</td>\n",
       "      <td>978300275</td>\n",
       "    </tr>\n",
       "    <tr>\n",
       "      <th>4</th>\n",
       "      <td>1</td>\n",
       "      <td>2355</td>\n",
       "      <td>5</td>\n",
       "      <td>978824291</td>\n",
       "    </tr>\n",
       "  </tbody>\n",
       "</table>\n",
       "</div>"
      ],
      "text/plain": [
       "   UserID  MovieID  Rating  Timestamp\n",
       "0       1     1193       5  978300760\n",
       "1       1      661       3  978302109\n",
       "2       1      914       3  978301968\n",
       "3       1     3408       4  978300275\n",
       "4       1     2355       5  978824291"
      ]
     },
     "execution_count": 24,
     "metadata": {},
     "output_type": "execute_result"
    }
   ],
   "source": [
    "df= pd.read_csv('C:/Users/Rathore/Downloads/Project Datasets/Movie rating/ratings.dat',sep = '::',names = ['UserID','MovieID','Rating','Timestamp'],engine ='python')\n",
    "#df= pd.read_csv('C:/Users/Rathore/Downloads/Project Datasets/ml-100k/u.data',sep = '\\t',names = ['UserID','MovieID','Rating','Timestamp'],engine ='python')\n",
    "n_movies = max(df.MovieID)\n",
    "n_users = max(df.UserID)\n",
    "df.head()"
   ]
  },
  {
   "cell_type": "code",
   "execution_count": 25,
   "metadata": {},
   "outputs": [
    {
     "name": "stdout",
     "output_type": "stream",
     "text": [
      "No. of users 6040, No. of Movies3952\n"
     ]
    }
   ],
   "source": [
    "print('No. of users '+ str(n_users)+', No. of Movies'+ str(n_movies))"
   ]
  },
  {
   "cell_type": "code",
   "execution_count": 26,
   "metadata": {},
   "outputs": [
    {
     "data": {
      "text/html": [
       "<div>\n",
       "<style>\n",
       "    .dataframe thead tr:only-child th {\n",
       "        text-align: right;\n",
       "    }\n",
       "\n",
       "    .dataframe thead th {\n",
       "        text-align: left;\n",
       "    }\n",
       "\n",
       "    .dataframe tbody tr th {\n",
       "        vertical-align: top;\n",
       "    }\n",
       "</style>\n",
       "<table border=\"1\" class=\"dataframe\">\n",
       "  <thead>\n",
       "    <tr style=\"text-align: right;\">\n",
       "      <th></th>\n",
       "      <th>UserID</th>\n",
       "      <th>MovieID</th>\n",
       "      <th>Rating</th>\n",
       "      <th>Timestamp</th>\n",
       "    </tr>\n",
       "  </thead>\n",
       "  <tbody>\n",
       "    <tr>\n",
       "      <th>209398</th>\n",
       "      <td>1279</td>\n",
       "      <td>1875</td>\n",
       "      <td>3</td>\n",
       "      <td>974854171</td>\n",
       "    </tr>\n",
       "    <tr>\n",
       "      <th>448906</th>\n",
       "      <td>2766</td>\n",
       "      <td>2716</td>\n",
       "      <td>5</td>\n",
       "      <td>973651175</td>\n",
       "    </tr>\n",
       "    <tr>\n",
       "      <th>71171</th>\n",
       "      <td>477</td>\n",
       "      <td>349</td>\n",
       "      <td>4</td>\n",
       "      <td>976219618</td>\n",
       "    </tr>\n",
       "    <tr>\n",
       "      <th>550637</th>\n",
       "      <td>3391</td>\n",
       "      <td>521</td>\n",
       "      <td>5</td>\n",
       "      <td>967656876</td>\n",
       "    </tr>\n",
       "    <tr>\n",
       "      <th>203746</th>\n",
       "      <td>1253</td>\n",
       "      <td>1288</td>\n",
       "      <td>5</td>\n",
       "      <td>974824567</td>\n",
       "    </tr>\n",
       "    <tr>\n",
       "      <th>443079</th>\n",
       "      <td>2731</td>\n",
       "      <td>1147</td>\n",
       "      <td>4</td>\n",
       "      <td>973241907</td>\n",
       "    </tr>\n",
       "    <tr>\n",
       "      <th>874354</th>\n",
       "      <td>5278</td>\n",
       "      <td>3744</td>\n",
       "      <td>1</td>\n",
       "      <td>964023443</td>\n",
       "    </tr>\n",
       "    <tr>\n",
       "      <th>486379</th>\n",
       "      <td>2994</td>\n",
       "      <td>2723</td>\n",
       "      <td>3</td>\n",
       "      <td>970708400</td>\n",
       "    </tr>\n",
       "    <tr>\n",
       "      <th>180278</th>\n",
       "      <td>1128</td>\n",
       "      <td>3844</td>\n",
       "      <td>4</td>\n",
       "      <td>974908339</td>\n",
       "    </tr>\n",
       "    <tr>\n",
       "      <th>713283</th>\n",
       "      <td>4277</td>\n",
       "      <td>318</td>\n",
       "      <td>5</td>\n",
       "      <td>965645066</td>\n",
       "    </tr>\n",
       "  </tbody>\n",
       "</table>\n",
       "</div>"
      ],
      "text/plain": [
       "        UserID  MovieID  Rating  Timestamp\n",
       "209398    1279     1875       3  974854171\n",
       "448906    2766     2716       5  973651175\n",
       "71171      477      349       4  976219618\n",
       "550637    3391      521       5  967656876\n",
       "203746    1253     1288       5  974824567\n",
       "443079    2731     1147       4  973241907\n",
       "874354    5278     3744       1  964023443\n",
       "486379    2994     2723       3  970708400\n",
       "180278    1128     3844       4  974908339\n",
       "713283    4277      318       5  965645066"
      ]
     },
     "execution_count": 26,
     "metadata": {},
     "output_type": "execute_result"
    }
   ],
   "source": [
    "train, test = train_test_split(df,test_size = 0.25)\n",
    "train.head(10)"
   ]
  },
  {
   "cell_type": "markdown",
   "metadata": {},
   "source": [
    "Creating Similarity Metrics"
   ]
  },
  {
   "cell_type": "code",
   "execution_count": 27,
   "metadata": {
    "collapsed": true
   },
   "outputs": [],
   "source": [
    "#Training Similarity Metrics:-\n",
    "train_matrix = np.zeros((n_users,n_movies))\n",
    "for line in train.itertuples():\n",
    "    train_matrix[line[1]-1, line[2]-1] = line[3]\n",
    "#Testing similarity Metrics:-\n",
    "test_matrix = np.zeros((n_users,n_movies))\n",
    "for line in test.itertuples():\n",
    "    test_matrix[line[1]-1, line[2]-1] = line[3]"
   ]
  },
  {
   "cell_type": "code",
   "execution_count": 36,
   "metadata": {
    "collapsed": true
   },
   "outputs": [],
   "source": [
    "user_similarity = pairwise_distances(train_matrix, metric = 'cosine')\n",
    "movie_similarity = pairwise_distances(train_matrix.T, metric = 'cosine')\n"
   ]
  },
  {
   "cell_type": "code",
   "execution_count": 40,
   "metadata": {
    "collapsed": true
   },
   "outputs": [],
   "source": [
    "#np.newaxis so that mean_user_rating has same format as ratings\n",
    "def predict(ratings,similarity, type = 'user'):\n",
    "    if type == 'user':\n",
    "        mean_user_rating  = ratings.mean(axis = 1)\n",
    "        ratings_diff = (ratings - mean_user_rating[:,np.newaxis])\n",
    "        pred = mean_user_rating[:, np.newaxis] + similarity.dot(ratings_diff) /np.array([np.abs(similarity).sum(axis=1)]).T\n",
    "    elif type == 'movie':\n",
    "        pred = ratings.dot(similarity) / np.array([np.abs(similarity).sum(axis=1)])\n",
    "    return pred    "
   ]
  },
  {
   "cell_type": "code",
   "execution_count": 43,
   "metadata": {
    "collapsed": true
   },
   "outputs": [],
   "source": [
    "movie_prediction = predict(train_matrix,movie_similarity, type = 'movie')\n",
    "user_prediction  = predict(train_matrix,user_similarity, type = 'user')\n"
   ]
  },
  {
   "cell_type": "markdown",
   "metadata": {},
   "source": [
    "Root Mean Squared Error (RMSE)"
   ]
  },
  {
   "cell_type": "code",
   "execution_count": 46,
   "metadata": {
    "collapsed": true
   },
   "outputs": [],
   "source": [
    "def rmse(prediction, ground_truth):\n",
    "    prediction = prediction[ground_truth.nonzero()].flatten()\n",
    "    ground_truth = ground_truth[ground_truth.nonzero()].flatten()\n",
    "    return np.sqrt(mean_squared_error(prediction, ground_truth))"
   ]
  },
  {
   "cell_type": "code",
   "execution_count": 51,
   "metadata": {},
   "outputs": [
    {
     "name": "stdout",
     "output_type": "stream",
     "text": [
      "User-based Collaborative Filtering  RMSE: 3.25763482583\n",
      "Item-based Collaborative Filtering  RMSE: 3.53926207119\n"
     ]
    }
   ],
   "source": [
    "print ('User-based Collaborative Filtering  RMSE: ' + str(rmse(user_prediction, test_matrix)))\n",
    "print ('Item-based Collaborative Filtering  RMSE: ' + str(rmse(movie_prediction, test_matrix)))"
   ]
  },
  {
   "cell_type": "code",
   "execution_count": 57,
   "metadata": {},
   "outputs": [
    {
     "name": "stdout",
     "output_type": "stream",
     "text": [
      "The sparsity level of MovieLens1M is 95.8%\n"
     ]
    }
   ],
   "source": [
    "sparsity=round(1.0-len(df)/float(n_users*n_movies),3)\n",
    "print ('The sparsity level of MovieLens1M is ' +  str(sparsity*100) + '%')\n"
   ]
  },
  {
   "cell_type": "code",
   "execution_count": 73,
   "metadata": {},
   "outputs": [
    {
     "name": "stdout",
     "output_type": "stream",
     "text": [
      "User-based CF MSE: 2.75998872098\n"
     ]
    }
   ],
   "source": [
    "import scipy.sparse as sp\n",
    "from scipy.sparse.linalg import svds\n",
    "\n",
    "#get SVD components from train matrix. Choose k.\n",
    "u, s, vt = svds(train_matrix, k = 25)\n",
    "s_diag_matrix=np.diag(s)\n",
    "X_pred = np.dot(np.dot(u, s_diag_matrix), vt)\n",
    "print ('User-based CF MSE: ' + str(rmse(X_pred, test_matrix)))"
   ]
  }
 ],
 "metadata": {
  "kernelspec": {
   "display_name": "Python 3",
   "language": "python",
   "name": "python3"
  },
  "language_info": {
   "codemirror_mode": {
    "name": "ipython",
    "version": 3
   },
   "file_extension": ".py",
   "mimetype": "text/x-python",
   "name": "python",
   "nbconvert_exporter": "python",
   "pygments_lexer": "ipython3",
   "version": "3.6.3"
  }
 },
 "nbformat": 4,
 "nbformat_minor": 2
}
